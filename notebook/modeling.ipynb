{
 "cells": [
  {
   "cell_type": "code",
   "execution_count": 58,
   "metadata": {},
   "outputs": [],
   "source": [
    "import pandas as pd\n",
    "from sklearn.metrics import classification_report, confusion_matrix\n",
    "from sklearn.model_selection import train_test_split\n",
    "from sklearn.linear_model import LogisticRegression\n",
    "from sklearn.tree import DecisionTreeClassifier\n",
    "from sklearn.ensemble import RandomForestClassifier, GradientBoostingClassifier\n",
    "from sklearn.neural_network import MLPClassifier\n",
    "from sklearn.preprocessing import OneHotEncoder"
   ]
  },
  {
   "cell_type": "code",
   "execution_count": 59,
   "metadata": {},
   "outputs": [],
   "source": [
    "# Load the datasets\n",
    "fraud_data = pd.read_csv('D:/Week8$9/data/Fraud_Data.csv')\n",
    "credit_card_data = pd.read_csv('D:/Week8$9/data/creditcard.csv')\n",
    "\n",
    "# Separate features and target for Fraud Data\n",
    "X_fraud = fraud_data.drop(columns=['class'])\n",
    "y_fraud = fraud_data['class']\n",
    "\n",
    "# Separate features and target for Credit Card Data\n",
    "X_credit_card = credit_card_data.drop(columns=['Class'])\n",
    "y_credit_card = credit_card_data['Class']\n",
    "\n",
    "# Split the Fraud Data\n",
    "X_fraud_train, X_fraud_test, y_fraud_train, y_fraud_test = train_test_split(\n",
    "    X_fraud, y_fraud, test_size=0.2, random_state=42, stratify=y_fraud\n",
    ")\n",
    "\n",
    "# Split the Credit Card Data\n",
    "X_credit_card_train, X_credit_card_test, y_credit_card_train, y_credit_card_test = train_test_split(\n",
    "    X_credit_card, y_credit_card, test_size=0.2, random_state=42, stratify=y_credit_card\n",
    ")"
   ]
  },
  {
   "cell_type": "code",
   "execution_count": 60,
   "metadata": {},
   "outputs": [],
   "source": [
    "def train_and_evaluate_model(model, X_train, y_train, X_test, y_test):\n",
    "    model.fit(X_train, y_train)\n",
    "    y_pred = model.predict(X_test)\n",
    "    print(f\"Confusion Matrix:\\n{confusion_matrix(y_test, y_pred)}\")\n",
    "    print(f\"\\nClassification Report:\\n{classification_report(y_test, y_pred)}\")"
   ]
  },
  {
   "cell_type": "code",
   "execution_count": 62,
   "metadata": {},
   "outputs": [
    {
     "name": "stderr",
     "output_type": "stream",
     "text": [
      "d:\\Week8$9\\myvenv\\Lib\\site-packages\\sklearn\\utils\\validation.py:877: UserWarning: pandas.DataFrame with sparse columns found.It will be converted to a dense numpy array.\n",
      "  warnings.warn(\n"
     ]
    },
    {
     "name": "stdout",
     "output_type": "stream",
     "text": [
      "              precision    recall  f1-score   support\n",
      "\n",
      "           0       0.91      0.60      0.72     27393\n",
      "           1       0.10      0.42      0.16      2830\n",
      "\n",
      "    accuracy                           0.58     30223\n",
      "   macro avg       0.50      0.51      0.44     30223\n",
      "weighted avg       0.83      0.58      0.67     30223\n",
      "\n"
     ]
    },
    {
     "name": "stderr",
     "output_type": "stream",
     "text": [
      "d:\\Week8$9\\myvenv\\Lib\\site-packages\\sklearn\\utils\\validation.py:877: UserWarning: pandas.DataFrame with sparse columns found.It will be converted to a dense numpy array.\n",
      "  warnings.warn(\n"
     ]
    }
   ],
   "source": [
    "import pandas as pd\n",
    "from sklearn.model_selection import train_test_split\n",
    "from sklearn.preprocessing import OneHotEncoder\n",
    "from sklearn.linear_model import LogisticRegression\n",
    "from sklearn.metrics import classification_report\n",
    "\n",
    "# Load the dataset\n",
    "fraud_data = pd.read_csv('D:/Week8$9/data/Fraud_Data.csv')\n",
    "\n",
    "# Convert 'purchase_time' and any other datetime columns to datetime objects\n",
    "fraud_data['purchase_time'] = pd.to_datetime(fraud_data['purchase_time'])\n",
    "\n",
    "# Extract features and target\n",
    "X_fraud = fraud_data.drop(columns=['class'])\n",
    "y_fraud = fraud_data['class']\n",
    "\n",
    "# Convert datetime columns to timestamps if applicable\n",
    "for col in X_fraud.select_dtypes(include=['datetime']):\n",
    "    X_fraud[col] = X_fraud[col].astype('int64') // 10**9  # Convert to seconds since epoch\n",
    "\n",
    "# Identify and encode categorical columns\n",
    "categorical_cols = X_fraud.select_dtypes(include=['object']).columns.tolist()\n",
    "if categorical_cols:\n",
    "    # Use sparse_output instead of sparse\n",
    "    encoder = OneHotEncoder(sparse_output=True, max_categories=10)  # Limit to top 10 categories if possible\n",
    "    X_encoded = encoder.fit_transform(X_fraud[categorical_cols])\n",
    "    \n",
    "    # Concatenate the sparse matrix with numeric features\n",
    "    X_fraud_numeric = X_fraud.drop(columns=categorical_cols).reset_index(drop=True)\n",
    "    X_fraud = pd.concat([X_fraud_numeric, pd.DataFrame.sparse.from_spmatrix(X_encoded)], axis=1)\n",
    "\n",
    "# Convert column names to strings\n",
    "X_fraud.columns = X_fraud.columns.astype(str)\n",
    "\n",
    "# Train-test split with stratification\n",
    "X_fraud_train, X_fraud_test, y_fraud_train, y_fraud_test = train_test_split(\n",
    "    X_fraud, y_fraud, test_size=0.2, random_state=42, stratify=y_fraud\n",
    ")\n",
    "\n",
    "# Logistic Regression with class weights\n",
    "logistic_model = LogisticRegression(max_iter=1000, class_weight='balanced')\n",
    "logistic_model.fit(X_fraud_train, y_fraud_train)\n",
    "\n",
    "# Predictions\n",
    "y_pred = logistic_model.predict(X_fraud_test)\n",
    "\n",
    "# Print classification report with zero_division parameter\n",
    "print(classification_report(y_fraud_test, y_pred, zero_division=0))"
   ]
  },
  {
   "cell_type": "code",
   "execution_count": 63,
   "metadata": {},
   "outputs": [
    {
     "name": "stderr",
     "output_type": "stream",
     "text": [
      "d:\\Week8$9\\myvenv\\Lib\\site-packages\\sklearn\\utils\\validation.py:877: UserWarning: pandas.DataFrame with sparse columns found.It will be converted to a dense numpy array.\n",
      "  warnings.warn(\n",
      "d:\\Week8$9\\myvenv\\Lib\\site-packages\\sklearn\\utils\\validation.py:877: UserWarning: pandas.DataFrame with sparse columns found.It will be converted to a dense numpy array.\n",
      "  warnings.warn(\n"
     ]
    },
    {
     "name": "stdout",
     "output_type": "stream",
     "text": [
      "              precision    recall  f1-score   support\n",
      "\n",
      "           0       0.91      0.57      0.70     27393\n",
      "           1       0.10      0.44      0.16      2830\n",
      "\n",
      "    accuracy                           0.56     30223\n",
      "   macro avg       0.50      0.50      0.43     30223\n",
      "weighted avg       0.83      0.56      0.65     30223\n",
      "\n"
     ]
    },
    {
     "name": "stderr",
     "output_type": "stream",
     "text": [
      "d:\\Week8$9\\myvenv\\Lib\\site-packages\\sklearn\\utils\\validation.py:877: UserWarning: pandas.DataFrame with sparse columns found.It will be converted to a dense numpy array.\n",
      "  warnings.warn(\n"
     ]
    }
   ],
   "source": [
    "from imblearn.over_sampling import SMOTE\n",
    "from sklearn.pipeline import make_pipeline\n",
    "\n",
    "# Create a pipeline with SMOTE and Logistic Regression\n",
    "smote = SMOTE(random_state=42)\n",
    "logistic_model = LogisticRegression(max_iter=1000, class_weight='balanced')\n",
    "\n",
    "# Fit the model with SMOTE\n",
    "X_fraud_train_resampled, y_fraud_train_resampled = smote.fit_resample(X_fraud_train, y_fraud_train)\n",
    "\n",
    "logistic_model.fit(X_fraud_train_resampled, y_fraud_train_resampled)\n",
    "\n",
    "# Predictions\n",
    "y_pred = logistic_model.predict(X_fraud_test)\n",
    "\n",
    "# Print classification report\n",
    "print(classification_report(y_fraud_test, y_pred, zero_division=0))"
   ]
  },
  {
   "cell_type": "code",
   "execution_count": 64,
   "metadata": {},
   "outputs": [
    {
     "name": "stderr",
     "output_type": "stream",
     "text": [
      "d:\\Week8$9\\myvenv\\Lib\\site-packages\\sklearn\\utils\\validation.py:877: UserWarning: pandas.DataFrame with sparse columns found.It will be converted to a dense numpy array.\n",
      "  warnings.warn(\n",
      "d:\\Week8$9\\myvenv\\Lib\\site-packages\\sklearn\\utils\\validation.py:877: UserWarning: pandas.DataFrame with sparse columns found.It will be converted to a dense numpy array.\n",
      "  warnings.warn(\n"
     ]
    },
    {
     "name": "stdout",
     "output_type": "stream",
     "text": [
      "              precision    recall  f1-score   support\n",
      "\n",
      "           0       0.91      0.57      0.70     27393\n",
      "           1       0.10      0.44      0.16      2830\n",
      "\n",
      "    accuracy                           0.56     30223\n",
      "   macro avg       0.50      0.50      0.43     30223\n",
      "weighted avg       0.83      0.56      0.65     30223\n",
      "\n"
     ]
    },
    {
     "name": "stderr",
     "output_type": "stream",
     "text": [
      "d:\\Week8$9\\myvenv\\Lib\\site-packages\\sklearn\\utils\\validation.py:877: UserWarning: pandas.DataFrame with sparse columns found.It will be converted to a dense numpy array.\n",
      "  warnings.warn(\n"
     ]
    }
   ],
   "source": [
    "import pandas as pd\n",
    "from sklearn.model_selection import train_test_split\n",
    "from sklearn.preprocessing import OneHotEncoder\n",
    "from sklearn.linear_model import LogisticRegression\n",
    "from imblearn.over_sampling import SMOTE\n",
    "\n",
    "# Load the dataset\n",
    "fraud_data = pd.read_csv('D:/Week8$9/data/Fraud_Data.csv')\n",
    "fraud_data['purchase_time'] = pd.to_datetime(fraud_data['purchase_time'])\n",
    "\n",
    "# Extract features and target\n",
    "X_fraud = fraud_data.drop(columns=['class'])\n",
    "y_fraud = fraud_data['class']\n",
    "\n",
    "# Convert datetime columns to timestamps if applicable\n",
    "for col in X_fraud.select_dtypes(include=['datetime']):\n",
    "    X_fraud[col] = X_fraud[col].astype('int64') // 10**9\n",
    "\n",
    "# Identify and encode categorical columns\n",
    "categorical_cols = X_fraud.select_dtypes(include=['object']).columns.tolist()\n",
    "if categorical_cols:\n",
    "    # Use sparse_output to keep the output sparse\n",
    "    encoder = OneHotEncoder(sparse_output=True, max_categories=10)\n",
    "    X_encoded = encoder.fit_transform(X_fraud[categorical_cols])\n",
    "    \n",
    "    # Concatenate the sparse matrix with numeric features\n",
    "    X_fraud_numeric = X_fraud.drop(columns=categorical_cols).reset_index(drop=True)\n",
    "    X_fraud = pd.concat([X_fraud_numeric, pd.DataFrame.sparse.from_spmatrix(X_encoded)], axis=1)\n",
    "\n",
    "# Convert column names to strings\n",
    "X_fraud.columns = X_fraud.columns.astype(str)\n",
    "\n",
    "# Train-test split with stratification\n",
    "X_fraud_train, X_fraud_test, y_fraud_train, y_fraud_test = train_test_split(\n",
    "    X_fraud, y_fraud, test_size=0.2, random_state=42, stratify=y_fraud\n",
    ")\n",
    "\n",
    "# Use SMOTE for handling class imbalance\n",
    "smote = SMOTE(random_state=42)\n",
    "X_fraud_train_resampled, y_fraud_train_resampled = smote.fit_resample(X_fraud_train, y_fraud_train)\n",
    "\n",
    "# Logistic Regression with class weights\n",
    "logistic_model = LogisticRegression(max_iter=1000, class_weight='balanced')\n",
    "logistic_model.fit(X_fraud_train_resampled, y_fraud_train_resampled)\n",
    "\n",
    "# Predictions\n",
    "y_pred = logistic_model.predict(X_fraud_test)\n",
    "\n",
    "# Print classification report\n",
    "from sklearn.metrics import classification_report\n",
    "print(classification_report(y_fraud_test, y_pred, zero_division=0))"
   ]
  },
  {
   "cell_type": "code",
   "execution_count": 65,
   "metadata": {},
   "outputs": [
    {
     "name": "stderr",
     "output_type": "stream",
     "text": [
      "d:\\Week8$9\\myvenv\\Lib\\site-packages\\sklearn\\utils\\validation.py:877: UserWarning: pandas.DataFrame with sparse columns found.It will be converted to a dense numpy array.\n",
      "  warnings.warn(\n",
      "d:\\Week8$9\\myvenv\\Lib\\site-packages\\sklearn\\utils\\validation.py:877: UserWarning: pandas.DataFrame with sparse columns found.It will be converted to a dense numpy array.\n",
      "  warnings.warn(\n",
      "d:\\Week8$9\\myvenv\\Lib\\site-packages\\sklearn\\utils\\validation.py:877: UserWarning: pandas.DataFrame with sparse columns found.It will be converted to a dense numpy array.\n",
      "  warnings.warn(\n"
     ]
    },
    {
     "name": "stdout",
     "output_type": "stream",
     "text": [
      "              precision    recall  f1-score   support\n",
      "\n",
      "           0       0.95      1.00      0.97     27393\n",
      "           1       0.94      0.53      0.68      2830\n",
      "\n",
      "    accuracy                           0.95     30223\n",
      "   macro avg       0.95      0.76      0.82     30223\n",
      "weighted avg       0.95      0.95      0.95     30223\n",
      "\n"
     ]
    }
   ],
   "source": [
    "from sklearn.ensemble import RandomForestClassifier\n",
    "from imblearn.over_sampling import SMOTE\n",
    "from sklearn.model_selection import train_test_split\n",
    "from sklearn.metrics import classification_report\n",
    "\n",
    "# Assuming X_fraud and y_fraud are defined as before\n",
    "X_fraud_train, X_fraud_test, y_fraud_train, y_fraud_test = train_test_split(\n",
    "    X_fraud, y_fraud, test_size=0.2, random_state=42, stratify=y_fraud\n",
    ")\n",
    "\n",
    "# Use SMOTE for handling class imbalance\n",
    "smote = SMOTE(random_state=42)\n",
    "X_fraud_train_resampled, y_fraud_train_resampled = smote.fit_resample(X_fraud_train, y_fraud_train)\n",
    "\n",
    "# Random Forest Classifier with class weights\n",
    "rf_model = RandomForestClassifier(class_weight='balanced', random_state=42)\n",
    "rf_model.fit(X_fraud_train_resampled, y_fraud_train_resampled)\n",
    "\n",
    "# Predictions\n",
    "y_pred = rf_model.predict(X_fraud_test)\n",
    "\n",
    "# Print classification report\n",
    "print(classification_report(y_fraud_test, y_pred, zero_division=0))"
   ]
  }
 ],
 "metadata": {
  "kernelspec": {
   "display_name": "myvenv",
   "language": "python",
   "name": "python3"
  },
  "language_info": {
   "codemirror_mode": {
    "name": "ipython",
    "version": 3
   },
   "file_extension": ".py",
   "mimetype": "text/x-python",
   "name": "python",
   "nbconvert_exporter": "python",
   "pygments_lexer": "ipython3",
   "version": "3.12.5"
  }
 },
 "nbformat": 4,
 "nbformat_minor": 2
}
